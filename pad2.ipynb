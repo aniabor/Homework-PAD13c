{
  "cells": [
    {
      "cell_type": "markdown",
      "metadata": {
        "id": "view-in-github",
        "colab_type": "text"
      },
      "source": [
        "<a href=\"https://colab.research.google.com/github/aniabor/Homework-PAD13c/blob/main/pad2.ipynb\" target=\"_parent\"><img src=\"https://colab.research.google.com/assets/colab-badge.svg\" alt=\"Open In Colab\"/></a>"
      ]
    },
    {
      "cell_type": "markdown",
      "metadata": {
        "id": "EfjsOZHspd4H"
      },
      "source": [
        "**ZADANIE** **1**"
      ]
    },
    {
      "cell_type": "code",
      "execution_count": null,
      "metadata": {
        "colab": {
          "base_uri": "https://localhost:8080/"
        },
        "id": "d9x4LJ9SihqB",
        "outputId": "1599779a-9241-4929-e2c1-16d0d0813caf"
      },
      "outputs": [
        {
          "data": {
            "text/plain": [
              "array([189, 170, 189, 163, 183, 171, 185, 168, 173, 183, 173, 173, 175,\n",
              "       178, 183, 193, 178, 173, 174, 183, 183, 168, 170, 178, 182, 180,\n",
              "       183, 178, 182, 188, 175, 179, 183, 193, 182, 183, 177, 185, 188,\n",
              "       188, 182, 185])"
            ]
          },
          "execution_count": 2,
          "metadata": {},
          "output_type": "execute_result"
        }
      ],
      "source": [
        "#Korzystając z poniższego kodu oraz pliku president_heights.csv \n",
        "#utwórz tablicę zawierającą wzrost prezydentów USA. \n",
        "import pandas as pd\n",
        "import numpy as np\n",
        "data=pd.read_csv('/content/drive/MyDrive/pad/PAD/PAD2/president_heights.csv')\n",
        "data\n",
        "heights=np.array(data['height(cm)'])\n",
        "\n",
        "heights\n"
      ]
    },
    {
      "cell_type": "code",
      "execution_count": null,
      "metadata": {
        "colab": {
          "base_uri": "https://localhost:8080/"
        },
        "id": "j7QHU880owJy",
        "outputId": "f9d86c4e-ea3c-4350-f9e2-2b6b1d5c7731"
      },
      "outputs": [
        {
          "data": {
            "text/plain": [
              "179.73809523809524"
            ]
          },
          "execution_count": 3,
          "metadata": {},
          "output_type": "execute_result"
        }
      ],
      "source": [
        "# średni wzrost \n",
        "\n",
        "np.mean(heights)"
      ]
    },
    {
      "cell_type": "code",
      "execution_count": null,
      "metadata": {
        "colab": {
          "base_uri": "https://localhost:8080/"
        },
        "id": "BM3oAAPJpAuC",
        "outputId": "4fe0d0e9-a561-4300-c0b6-6b75b6d872de"
      },
      "outputs": [
        {
          "data": {
            "text/plain": [
              "6.931843442745892"
            ]
          },
          "execution_count": 4,
          "metadata": {},
          "output_type": "execute_result"
        }
      ],
      "source": [
        "#odchylenie standardowe\n",
        "s = np.std(heights)\n",
        "s"
      ]
    },
    {
      "cell_type": "code",
      "execution_count": null,
      "metadata": {
        "id": "CJfH52W0qY38"
      },
      "outputs": [],
      "source": [
        "#najwyższy oraz najniższy wzrost: \n",
        "min=np.min(heights)\n",
        "max=np.max(heights)\n",
        "\n"
      ]
    },
    {
      "cell_type": "code",
      "execution_count": null,
      "metadata": {
        "colab": {
          "base_uri": "https://localhost:8080/"
        },
        "id": "TOY9DcfKrMmt",
        "outputId": "c4218539-f91d-4a45-f4eb-4ef36f479f44"
      },
      "outputs": [
        {
          "name": "stdout",
          "output_type": "stream",
          "text": [
            "mean height:179.73809523809524\n",
            "standard deviation:6.931843442745892\n",
            "minimum height:163\n",
            "maximum height:193\n"
          ]
        }
      ],
      "source": [
        "print('mean height:{}'.format(np.mean(heights)))\n",
        "print('standard deviation:{}'.format(s))\n",
        "print('minimum height:{}'.format(min))\n",
        "print('maximum height:{}'.format(max))"
      ]
    },
    {
      "cell_type": "code",
      "execution_count": null,
      "metadata": {
        "colab": {
          "base_uri": "https://localhost:8080/"
        },
        "id": "a_m2zk7trjTV",
        "outputId": "9db95c31-4c7f-4e8f-b91b-89f705bef2fd"
      },
      "outputs": [
        {
          "name": "stdout",
          "output_type": "stream",
          "text": [
            "25th percentile:174.25\n",
            "Median:182.0\n",
            "75th percentile:183.0\n"
          ]
        }
      ],
      "source": [
        "#Podaj również 25 i 75 kwantyl oraz medianę: \n",
        "\n",
        "a=np.quantile(heights,0.25)\n",
        "b=np.quantile(heights,0.50)\n",
        "c=np.quantile(heights,0.75)\n",
        "print('25th percentile:{}'.format(a))\n",
        "print('Median:{}'.format(b))\n",
        "print('75th percentile:{}'.format(c))"
      ]
    },
    {
      "cell_type": "markdown",
      "metadata": {
        "id": "DVjhklD_p2Nb"
      },
      "source": [
        "**ZADANIE 2** "
      ]
    },
    {
      "cell_type": "code",
      "execution_count": null,
      "metadata": {
        "colab": {
          "background_save": true,
          "base_uri": "https://localhost:8080/"
        },
        "id": "tH6V9brTuqDI",
        "outputId": "fda27f07-38e0-4be3-895a-e6ed68ae677f"
      },
      "outputs": [
        {
          "data": {
            "text/plain": [
              "array([[  1,   2,  15, -59,   9,   3,  75,   6,   7,   1],\n",
              "       [  0,   5,   0,   4,   6,  16,  44,   7,   1,   1],\n",
              "       [  7,  14,   3, -10,   9,  15,  73,   8,   2,   9],\n",
              "       [  1,   5,  15, -54,   5,  15,  35,   8,   6,   4],\n",
              "       [  0,   8,   5, -18,   7,  16,  91,   6,   7,   9],\n",
              "       [  7,  18,  23, -90,   4,   8,  31,   0,   1,   7],\n",
              "       [  2,   8,  20, -72,   4,   1,  91,   9,   4,   4],\n",
              "       [  4,  12,  18, -65,   6,   9,  76,   4,   9,   9],\n",
              "       [  7,  15,  13, -52,   5,   7,  54,   2,   7,   0],\n",
              "       [  2,   9,  15, -56,   6,   1,  98,   4,   8,   4]], dtype=int32)"
            ]
          },
          "execution_count": 7,
          "metadata": {},
          "output_type": "execute_result"
        }
      ],
      "source": [
        "# Wgraj dane z pliku Zadanie_2.csv.\n",
        "data_2=np.genfromtxt('/content/drive/MyDrive/pad/PAD/PAD2/Zadanie_2.csv',dtype='i', delimiter=';')\n",
        "data_2\n"
      ]
    },
    {
      "cell_type": "code",
      "execution_count": 11,
      "metadata": {
        "colab": {
          "base_uri": "https://localhost:8080/"
        },
        "id": "yC_HZZXhXh1O",
        "outputId": "582c2cd6-0ce8-4883-a565-328912f02d6d"
      },
      "outputs": [
        {
          "output_type": "stream",
          "name": "stdout",
          "text": [
            "Wartości własne: [104.34960192 +0.j         -23.35660516+18.84992811j\n",
            " -23.35660516-18.84992811j  15.92989017 +0.j\n",
            "  -4.99456452 +0.j           0.35205717 +5.80125175j\n",
            "   0.35205717 -5.80125175j  -1.03383491 +0.j\n",
            "   3.87900166 +1.42651533j   3.87900166 -1.42651533j]\n",
            "Wektor własne: (array([104.34960192 +0.j        , -23.35660516+18.84992811j,\n",
            "       -23.35660516-18.84992811j,  15.92989017 +0.j        ,\n",
            "        -4.99456452 +0.j        ,   0.35205717 +5.80125175j,\n",
            "         0.35205717 -5.80125175j,  -1.03383491 +0.j        ,\n",
            "         3.87900166 +1.42651533j,   3.87900166 -1.42651533j]), matrix([[-0.29000475+0.j        , -0.07545445+0.07743149j,\n",
            "         -0.07545445-0.07743149j, -0.03544485+0.j        ,\n",
            "          0.42681634+0.j        , -0.22172831-0.29869259j,\n",
            "         -0.22172831+0.29869259j,  0.41343726+0.j        ,\n",
            "         -0.28670255+0.21891569j, -0.28670255-0.21891569j],\n",
            "        [-0.24163153+0.j        ,  0.41229621+0.09197324j,\n",
            "          0.41229621-0.09197324j,  0.45873475+0.j        ,\n",
            "         -0.27056206+0.j        , -0.01331344+0.1422557j ,\n",
            "         -0.01331344-0.1422557j , -0.31591047+0.j        ,\n",
            "          0.41954481-0.10561864j,  0.41954481+0.10561864j],\n",
            "        [-0.41060573+0.j        ,  0.37509638-0.00960818j,\n",
            "          0.37509638+0.00960818j,  0.64067986+0.j        ,\n",
            "         -0.37967609+0.j        , -0.60525232+0.j        ,\n",
            "         -0.60525232-0.j        ,  0.6457768 +0.j        ,\n",
            "          0.63631555+0.j        ,  0.63631555-0.j        ],\n",
            "        [-0.18899971+0.j        , -0.05624951+0.174848j  ,\n",
            "         -0.05624951-0.174848j  ,  0.25174536+0.j        ,\n",
            "         -0.07625465+0.j        , -0.14870016-0.00795735j,\n",
            "         -0.14870016+0.00795735j,  0.15206852+0.j        ,\n",
            "          0.21373907+0.00228636j,  0.21373907-0.00228636j],\n",
            "        [-0.42862199+0.j        ,  0.47707538+0.14580554j,\n",
            "          0.47707538-0.14580554j,  0.39445834+0.j        ,\n",
            "         -0.69542141+0.j        ,  0.07336021-0.43070469j,\n",
            "          0.07336021+0.43070469j, -0.25948775+0.j        ,\n",
            "          0.20250102-0.00411374j,  0.20250102+0.00411374j],\n",
            "        [-0.14730562+0.j        , -0.57352911+0.j        ,\n",
            "         -0.57352911-0.j        ,  0.10071325+0.j        ,\n",
            "          0.30158403+0.j        , -0.04758838+0.12911829j,\n",
            "         -0.04758838-0.12911829j,  0.21274791+0.j        ,\n",
            "         -0.1503483 +0.03452906j, -0.1503483 -0.03452906j],\n",
            "        [-0.34660607+0.j        , -0.13987374+0.06837303j,\n",
            "         -0.13987374-0.06837303j, -0.04800705+0.j        ,\n",
            "          0.06798106+0.j        ,  0.00512204+0.04215641j,\n",
            "          0.00512204-0.04215641j,  0.05365357+0.j        ,\n",
            "         -0.0534517 +0.00550802j, -0.0534517 -0.00550802j],\n",
            "        [-0.34919853+0.j        , -0.08414467+0.07749664j,\n",
            "         -0.08414467-0.07749664j,  0.25925893+0.j        ,\n",
            "         -0.10039982+0.j        , -0.06761437-0.25584347j,\n",
            "         -0.06761437+0.25584347j, -0.38214447+0.j        ,\n",
            "          0.29485109-0.01300678j,  0.29485109+0.01300678j],\n",
            "        [-0.2440048 +0.j        , -0.13777908+0.00402196j,\n",
            "         -0.13777908-0.00402196j,  0.27709282+0.j        ,\n",
            "         -0.00524365+0.j        ,  0.21866893+0.04463336j,\n",
            "          0.21866893-0.04463336j, -0.12045798+0.j        ,\n",
            "          0.27558332+0.02285482j,  0.27558332-0.02285482j],\n",
            "        [-0.38231403+0.j        , -0.00476199+0.03456836j,\n",
            "         -0.00476199-0.03456836j,  0.04918165+0.j        ,\n",
            "          0.07322815+0.j        ,  0.1819345 -0.29687727j,\n",
            "          0.1819345 +0.29687727j, -0.11445044+0.j        ,\n",
            "          0.02830199+0.00579727j,  0.02830199-0.00579727j]]))\n"
          ]
        }
      ],
      "source": [
        "#Znajdź wektory własne, oraz wartości własne dla zawartej w pliku macierzy \n",
        "npData2 = np.matrix(data_2)\n",
        "wartosci_wlasne = np.linalg.eigvals(npData2)\n",
        "wektory_wlasne = np.linalg.eig(npData2)\n",
        "print(\"Wartości własne:\",wartosci_wlasne)\n",
        "print(\"Wektor własne:\",wektory_wlasne)"
      ]
    },
    {
      "cell_type": "code",
      "source": [
        "#Oblicz macierz odwrotną dla macierzy z pliku\n",
        "macierz_odwrotna = np.linalg.inv(npData2)\n",
        "macierz_odwrotna"
      ],
      "metadata": {
        "colab": {
          "base_uri": "https://localhost:8080/"
        },
        "id": "F5scngizrJcq",
        "outputId": "31b8dc18-7516-4b78-e79e-3df66115c64f"
      },
      "execution_count": 12,
      "outputs": [
        {
          "output_type": "execute_result",
          "data": {
            "text/plain": [
              "matrix([[ 0.47461371,  0.13269253, -0.24726695, -0.82965177,  0.28250384,\n",
              "         -0.17012825,  0.58274426,  0.83686705,  0.4146721 , -1.56942847],\n",
              "        [-0.38032531, -0.11226789,  0.23216372,  0.58853747, -0.2508954 ,\n",
              "          0.10174485, -0.40729564, -0.58325689, -0.2335154 ,  1.11832726],\n",
              "        [ 0.13559662,  0.58950334, -0.24709855, -0.58789838, -0.30170699,\n",
              "         -0.12721938,  0.23740295,  1.01003036, -0.02151387, -0.64590149],\n",
              "        [ 0.01425207,  0.14570726, -0.04557569, -0.12721972, -0.08945184,\n",
              "         -0.03756624,  0.03910376,  0.23606066, -0.01436771, -0.11345749],\n",
              "        [-0.09473246,  0.01725249,  0.19145597,  0.32960274, -0.28626296,\n",
              "          0.08348529, -0.37577603, -0.27295934, -0.25855803,  0.74691827],\n",
              "        [ 0.16387032,  0.10075684, -0.15404907, -0.29794662,  0.16916877,\n",
              "         -0.02827782,  0.20469921,  0.28036265,  0.15086178, -0.5882585 ],\n",
              "        [ 0.04288003,  0.02246462, -0.0366803 , -0.09024915,  0.04322146,\n",
              "         -0.01047861,  0.06167348,  0.07009721,  0.0367806 , -0.14185925],\n",
              "        [-0.26858433, -0.21167346,  0.25168367,  0.55607234, -0.16804333,\n",
              "          0.01066975, -0.22435849, -0.52957038, -0.15757224,  0.77302113],\n",
              "        [-0.15583541, -0.13041404,  0.0984558 ,  0.3150966 , -0.09916278,\n",
              "         -0.04426337, -0.20832614, -0.18404388, -0.04309498,  0.45794224],\n",
              "        [-0.05970783, -0.11342903,  0.09122544,  0.11908074, -0.00311646,\n",
              "          0.02370807, -0.07526552, -0.06924544, -0.10963836,  0.16553689]])"
            ]
          },
          "metadata": {},
          "execution_count": 12
        }
      ]
    },
    {
      "cell_type": "markdown",
      "source": [
        "**ZADANIE 3**"
      ],
      "metadata": {
        "id": "2BF1wM66sCX1"
      }
    },
    {
      "cell_type": "code",
      "execution_count": null,
      "metadata": {
        "colab": {
          "base_uri": "https://localhost:8080/",
          "height": 268
        },
        "id": "jpUtT0DVvoT5",
        "outputId": "02782054-0df1-4356-f707-a76676990511"
      },
      "outputs": [
        {
          "data": {
            "image/png": "[encoded data removed]",
            "text/plain": [
              "<Figure size 432x288 with 1 Axes>"
            ]
          },
          "metadata": {},
          "output_type": "display_data"
        }
      ],
      "source": [
        "rainfall=pd.read_csv('/content/drive/MyDrive/pad/PAD/PAD2/Seattle2014.csv')['PRCP'].values\n",
        "inches=rainfall/256.0\n",
        "inches.shape\n",
        "%matplotlib inline\n",
        "\n",
        "import matplotlib.pyplot as plt\n",
        "import seaborn; seaborn.set()\n",
        "plt.hist(inches,40);"
      ]
    },
    {
      "cell_type": "code",
      "execution_count": 28,
      "metadata": {
        "colab": {
          "base_uri": "https://localhost:8080/"
        },
        "id": "1k6Aqn19x4ax",
        "outputId": "9d59287c-1c8c-4090-eb83-9191283aead1"
      },
      "outputs": [
        {
          "output_type": "stream",
          "name": "stdout",
          "text": [
            "Number days without rain:       215\n",
            "Number days with rain:          150\n",
            "Days with more than 0.5 inches: 37\n",
            "Rainy days with < 0.2 inches  : 75\n"
          ]
        }
      ],
      "source": [
        "# Kiedy nie padało?\n",
        "rainfall=pd.read_csv('/content/drive/MyDrive/pad/PAD/PAD2/Seattle2014.csv')['PRCP'].values\n",
        "inches=rainfall/254.0\n",
        "\n",
        "\n",
        "print(\"Number days without rain:      \", np.sum(rainfall == 0))\n",
        "print(\"Number days with rain:         \", np.sum(rainfall != 0))\n",
        "print(\"Days with more than 0.5 inches:\", np.sum(inches > 0.5))\n",
        "print(\"Rainy days with < 0.2 inches  :\", np.sum(inches < 0.2) - np.sum(rainfall == 0))"
      ]
    },
    {
      "cell_type": "code",
      "execution_count": 43,
      "metadata": {
        "colab": {
          "base_uri": "https://localhost:8080/"
        },
        "id": "Uc8iA0GDgKHv",
        "outputId": "ce9ef14f-10a5-4b2e-90fc-271a368376b6"
      },
      "outputs": [
        {
          "output_type": "stream",
          "name": "stdout",
          "text": [
            "Median precip on rainy days in 2014 (inches):  0.19488188976377951\n",
            "Median precip on summer days in 2014 (inches):  0.0\n",
            "Maximum precip on summer days in 2014 (inches):  0.8503937007874016\n",
            "Maximum precip on non-summer days in 2014 (inches): 1.8385826771653544\n",
            "Median precip on non-summer rainy days in 2014 (inches): 0.20078740157480315\n"
          ]
        }
      ],
      "source": [
        "# Medianę opadów w deszczowe dni w 2014 roku\n",
        "dni_deszczowe = np.ma.masked_equal(inches, 0)\n",
        "\n",
        "daty = pd.read_csv('/content/drive/MyDrive/pad/PAD/PAD2/Seattle2014.csv')['DATE'].values\n",
        "poczatek_lata = daty[171]\n",
        "koniec_lata = daty[261]    \n",
        "\n",
        "dni_letnie_maska = np.ma.masked_outside(daty, poczatek_lata, koniec_lata).mask\n",
        "dni_letnie_opady = np.ma.array(inches, mask=dni_letnie_maska)\n",
        "\n",
        "dni_nie_letnie_maska = np.ma.masked_inside(daty, poczatek_lata, koniec_lata).mask\n",
        "dni_nie_letnie_opady = np.ma.array(inches, mask=dni_nie_letnie_maska)\n",
        "\n",
        "print(\"Median precip on rainy days in 2014 (inches): \", np.ma.median(dni_deszczowe))\n",
        "print(\"Median precip on summer days in 2014 (inches): \", np.ma.median(dni_letnie_opady))\n",
        "print(\"Maximum precip on summer days in 2014 (inches): \", dni_letnie_opady.max())\n",
        "print(\"Maximum precip on non-summer days in 2014 (inches):\", dni_nie_letnie_opady.max())\n",
        "print(\"Median precip on non-summer rainy days in 2014 (inches):\", np.ma.median(np.ma.masked_equal(np.ma.masked_invalid(dni_nie_letnie_opady), 0)))"
      ]
    },
    {
      "cell_type": "markdown",
      "source": [
        "**ZADANIE 4**"
      ],
      "metadata": {
        "id": "OaM6BnzIvQbG"
      }
    },
    {
      "cell_type": "code",
      "execution_count": 37,
      "metadata": {
        "colab": {
          "base_uri": "https://localhost:8080/"
        },
        "id": "Yaigphhx65Mr",
        "outputId": "fa50bea2-bea5-4f3b-81a8-d3e25b22156f"
      },
      "outputs": [
        {
          "output_type": "stream",
          "name": "stdout",
          "text": [
            "Suma: A + B =  [0 6 3 9]\n",
            "Różnica: A - B =  [0 0 1 1]\n",
            "Iloczyn wektora i skalara: A * 4 =  [ 0 12  8 20]\n",
            "Iloczyn skalarny: A o B =  31\n",
            "Długość wektora: |B| =  5.0990195135927845\n"
          ]
        }
      ],
      "source": [
        "A = [0,3,2,5]\n",
        "B = [0,3,1,4]\n",
        "np_a = np.array(A)\n",
        "np_b = np.array(B)\n",
        "\n",
        "# Dodaj A i B\n",
        "print(\"Suma: A + B = \", np.add(np_a, np_b))\n",
        "\n",
        "# Odejmij B od A\n",
        "print(\"Różnica: A - B = \", np.subtract(np_a, np_b))\n",
        "\n",
        "# Pomnóż wektor A przez skalar a=4\n",
        "a = 4\n",
        "print(\"Iloczyn wektora i skalara: A * 4 = \", np.multiply(np_a, a))\n",
        "\n",
        "# Oblicz iloczyn skalarny wektorów A i B\n",
        "print(\"Iloczyn skalarny: A o B = \", np.dot(np_a, np_b))\n",
        "\n",
        "# Znajdź długość wektora B\n",
        "print(\"Długość wektora: |B| = \",  np.sqrt(np_b.dot(np_b)))"
      ]
    }
  ],
  "metadata": {
    "colab": {
      "collapsed_sections": [],
      "provenance": [],
      "mount_file_id": "1_EXgMEB3WhNv6ZCOxorpHCSKZzqgwRFl",
      "authorship_tag": "ABX9TyPcC5m0Gp/3O4MIPPOmbURG",
      "include_colab_link": true
    },
    "kernelspec": {
      "display_name": "Python 3",
      "name": "python3"
    },
    "language_info": {
      "name": "python"
    }
  },
  "nbformat": 4,
  "nbformat_minor": 0
}